{
 "cells": [
  {
   "cell_type": "code",
   "execution_count": 10,
   "id": "21fbf1ac-fa8f-40d0-a901-60a92d88d975",
   "metadata": {},
   "outputs": [],
   "source": [
    "from matplotlib_venn import venn2 \n",
    "from matplotlib import pyplot as plt"
   ]
  },
  {
   "cell_type": "code",
   "execution_count": 28,
   "id": "19281f34-891a-4852-9712-bba1a52c794d",
   "metadata": {
    "tags": []
   },
   "outputs": [
    {
     "data": {
      "text/html": [
       "<div>\n",
       "<style scoped>\n",
       "    .dataframe tbody tr th:only-of-type {\n",
       "        vertical-align: middle;\n",
       "    }\n",
       "\n",
       "    .dataframe tbody tr th {\n",
       "        vertical-align: top;\n",
       "    }\n",
       "\n",
       "    .dataframe thead th {\n",
       "        text-align: right;\n",
       "    }\n",
       "</style>\n",
       "<table border=\"1\" class=\"dataframe\">\n",
       "  <thead>\n",
       "    <tr style=\"text-align: right;\">\n",
       "      <th></th>\n",
       "      <th>pers_id</th>\n",
       "      <th>nombrecompleto</th>\n",
       "      <th>pers_scopus</th>\n",
       "    </tr>\n",
       "  </thead>\n",
       "  <tbody>\n",
       "    <tr>\n",
       "      <th>0</th>\n",
       "      <td>3267</td>\n",
       "      <td>Cesar Augusto Forero Camacho</td>\n",
       "      <td>57580441200</td>\n",
       "    </tr>\n",
       "    <tr>\n",
       "      <th>1</th>\n",
       "      <td>3744</td>\n",
       "      <td>Daniel Augusto Bravo Benavides</td>\n",
       "      <td>57198064131</td>\n",
       "    </tr>\n",
       "    <tr>\n",
       "      <th>2</th>\n",
       "      <td>3514</td>\n",
       "      <td>Luz Fanny Orozco Orozco</td>\n",
       "      <td>57200122051</td>\n",
       "    </tr>\n",
       "    <tr>\n",
       "      <th>3</th>\n",
       "      <td>3553</td>\n",
       "      <td>Douglas Andres Gomez Latorre</td>\n",
       "      <td>57193831366</td>\n",
       "    </tr>\n",
       "    <tr>\n",
       "      <th>4</th>\n",
       "      <td>3534</td>\n",
       "      <td>Jaime Andres Osorio Guarin</td>\n",
       "      <td>56896062600</td>\n",
       "    </tr>\n",
       "  </tbody>\n",
       "</table>\n",
       "</div>"
      ],
      "text/plain": [
       "   pers_id                  nombrecompleto  pers_scopus\n",
       "0     3267    Cesar Augusto Forero Camacho  57580441200\n",
       "1     3744  Daniel Augusto Bravo Benavides  57198064131\n",
       "2     3514         Luz Fanny Orozco Orozco  57200122051\n",
       "3     3553    Douglas Andres Gomez Latorre  57193831366\n",
       "4     3534      Jaime Andres Osorio Guarin  56896062600"
      ]
     },
     "execution_count": 28,
     "metadata": {},
     "output_type": "execute_result"
    }
   ],
   "source": [
    "df1 = pd.read_csv('persona_scopus.csv')\n",
    "df1.head()"
   ]
  },
  {
   "cell_type": "code",
   "execution_count": 29,
   "id": "268d665a-87a3-4868-a26b-cf8b7c33c341",
   "metadata": {
    "tags": []
   },
   "outputs": [
    {
     "data": {
      "text/html": [
       "<div>\n",
       "<style scoped>\n",
       "    .dataframe tbody tr th:only-of-type {\n",
       "        vertical-align: middle;\n",
       "    }\n",
       "\n",
       "    .dataframe tbody tr th {\n",
       "        vertical-align: top;\n",
       "    }\n",
       "\n",
       "    .dataframe thead th {\n",
       "        text-align: right;\n",
       "    }\n",
       "</style>\n",
       "<table border=\"1\" class=\"dataframe\">\n",
       "  <thead>\n",
       "    <tr style=\"text-align: right;\">\n",
       "      <th></th>\n",
       "      <th>pers_id</th>\n",
       "      <th>nombrecompleto</th>\n",
       "      <th>pers_orcid</th>\n",
       "    </tr>\n",
       "  </thead>\n",
       "  <tbody>\n",
       "    <tr>\n",
       "      <th>0</th>\n",
       "      <td>4375</td>\n",
       "      <td>Maricel Piniero</td>\n",
       "      <td>0000-0002-3180-1121</td>\n",
       "    </tr>\n",
       "    <tr>\n",
       "      <th>1</th>\n",
       "      <td>3267</td>\n",
       "      <td>Cesar Augusto Forero Camacho</td>\n",
       "      <td>0000-0002-7382-6335</td>\n",
       "    </tr>\n",
       "    <tr>\n",
       "      <th>2</th>\n",
       "      <td>3744</td>\n",
       "      <td>Daniel Augusto Bravo Benavides</td>\n",
       "      <td>0000-0003-3155-9707</td>\n",
       "    </tr>\n",
       "    <tr>\n",
       "      <th>3</th>\n",
       "      <td>3514</td>\n",
       "      <td>Luz Fanny Orozco Orozco</td>\n",
       "      <td>0000-0002-8805-944X</td>\n",
       "    </tr>\n",
       "    <tr>\n",
       "      <th>4</th>\n",
       "      <td>3957</td>\n",
       "      <td>Nubia Liliana Cely Pardo</td>\n",
       "      <td>0000-0001-9948-9798</td>\n",
       "    </tr>\n",
       "  </tbody>\n",
       "</table>\n",
       "</div>"
      ],
      "text/plain": [
       "   pers_id                  nombrecompleto           pers_orcid\n",
       "0     4375                 Maricel Piniero  0000-0002-3180-1121\n",
       "1     3267    Cesar Augusto Forero Camacho  0000-0002-7382-6335\n",
       "2     3744  Daniel Augusto Bravo Benavides  0000-0003-3155-9707\n",
       "3     3514         Luz Fanny Orozco Orozco  0000-0002-8805-944X\n",
       "4     3957        Nubia Liliana Cely Pardo  0000-0001-9948-9798"
      ]
     },
     "execution_count": 29,
     "metadata": {},
     "output_type": "execute_result"
    }
   ],
   "source": [
    "df2 = pd.read_csv('persona_orcid.csv')\n",
    "df2.head()"
   ]
  },
  {
   "cell_type": "code",
   "execution_count": 30,
   "id": "21790e6f-e803-4809-aaa8-a0995463ccef",
   "metadata": {},
   "outputs": [
    {
     "data": {
      "image/png": "[encoded data removed]",
      "text/plain": [
       "<Figure size 288x288 with 1 Axes>"
      ]
     },
     "metadata": {},
     "output_type": "display_data"
    }
   ],
   "source": [
    "plt.figure(figsize=(4,4))\n",
    "set1 = set(df1['pers_id'])\n",
    "set2 = set(df2['pers_id'])\n",
    "\n",
    "\n",
    "venn2([set1, set2], ('Scopus', 'Orcid'))\n",
    "plt.show()"
   ]
  },
  {
   "cell_type": "code",
   "execution_count": 32,
   "id": "ae3aabfe-af7f-4440-abf9-6bf36320abb2",
   "metadata": {},
   "outputs": [
    {
     "data": {
      "text/html": [
       "<div>\n",
       "<style scoped>\n",
       "    .dataframe tbody tr th:only-of-type {\n",
       "        vertical-align: middle;\n",
       "    }\n",
       "\n",
       "    .dataframe tbody tr th {\n",
       "        vertical-align: top;\n",
       "    }\n",
       "\n",
       "    .dataframe thead th {\n",
       "        text-align: right;\n",
       "    }\n",
       "</style>\n",
       "<table border=\"1\" class=\"dataframe\">\n",
       "  <thead>\n",
       "    <tr style=\"text-align: right;\">\n",
       "      <th></th>\n",
       "      <th>pers_id</th>\n",
       "      <th>nombrecompleto</th>\n",
       "      <th>pers_cvlac</th>\n",
       "    </tr>\n",
       "  </thead>\n",
       "  <tbody>\n",
       "    <tr>\n",
       "      <th>0</th>\n",
       "      <td>4375</td>\n",
       "      <td>Maricel Piniero</td>\n",
       "      <td>1424068</td>\n",
       "    </tr>\n",
       "    <tr>\n",
       "      <th>1</th>\n",
       "      <td>3267</td>\n",
       "      <td>Cesar Augusto Forero Camacho</td>\n",
       "      <td>726575</td>\n",
       "    </tr>\n",
       "    <tr>\n",
       "      <th>2</th>\n",
       "      <td>3744</td>\n",
       "      <td>Daniel Augusto Bravo Benavides</td>\n",
       "      <td>860778</td>\n",
       "    </tr>\n",
       "    <tr>\n",
       "      <th>3</th>\n",
       "      <td>3514</td>\n",
       "      <td>Luz Fanny Orozco Orozco</td>\n",
       "      <td>3197</td>\n",
       "    </tr>\n",
       "    <tr>\n",
       "      <th>4</th>\n",
       "      <td>3957</td>\n",
       "      <td>Nubia Liliana Cely Pardo</td>\n",
       "      <td>542750</td>\n",
       "    </tr>\n",
       "  </tbody>\n",
       "</table>\n",
       "</div>"
      ],
      "text/plain": [
       "   pers_id                  nombrecompleto  pers_cvlac\n",
       "0     4375                 Maricel Piniero     1424068\n",
       "1     3267    Cesar Augusto Forero Camacho      726575\n",
       "2     3744  Daniel Augusto Bravo Benavides      860778\n",
       "3     3514         Luz Fanny Orozco Orozco        3197\n",
       "4     3957        Nubia Liliana Cely Pardo      542750"
      ]
     },
     "execution_count": 32,
     "metadata": {},
     "output_type": "execute_result"
    }
   ],
   "source": [
    "df3 = pd.read_csv('persona_cvlac.csv')\n",
    "df3.head()"
   ]
  },
  {
   "cell_type": "code",
   "execution_count": 33,
   "id": "9b522976-2f90-4e72-b459-bc524c5fe091",
   "metadata": {},
   "outputs": [
    {
     "data": {
      "image/png": "[encoded data removed]",
      "text/plain": [
       "<Figure size 288x288 with 1 Axes>"
      ]
     },
     "metadata": {},
     "output_type": "display_data"
    }
   ],
   "source": [
    "plt.figure(figsize=(4,4))\n",
    "set1 = set(df1['pers_id'])\n",
    "set2 = set(df2['pers_id'])\n",
    "set3 = set(df3['pers_id'])\n",
    "\n",
    "venn3([set1, set2, set3], ('Scopus', 'Orcid', 'Cvlac'))\n",
    "plt.show()"
   ]
  },
  {
   "cell_type": "code",
   "execution_count": null,
   "id": "0200fdc4-992a-4d4f-a2db-d54fef770e8a",
   "metadata": {},
   "outputs": [],
   "source": []
  }
 ],
 "metadata": {
  "kernelspec": {
   "display_name": "Python 3 (ipykernel)",
   "language": "python",
   "name": "python3"
  },
  "language_info": {
   "codemirror_mode": {
    "name": "ipython",
    "version": 3
   },
   "file_extension": ".py",
   "mimetype": "text/x-python",
   "name": "python",
   "nbconvert_exporter": "python",
   "pygments_lexer": "ipython3",
   "version": "3.9.12"
  }
 },
 "nbformat": 4,
 "nbformat_minor": 5
}
